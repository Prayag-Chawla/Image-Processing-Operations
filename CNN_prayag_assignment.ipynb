{
 "cells": [
  {
   "cell_type": "code",
   "execution_count": 69,
   "metadata": {},
   "outputs": [],
   "source": [
    "# # define input data\n",
    "# import numpy as np\n",
    "# from numpy import asarray\n",
    "# from keras.models import Sequential\n",
    "# from keras.layers import Conv2D\n",
    "# data = [[0, 0, 0, 1, 1, 0, 0, 0],\n",
    "#  [0, 0, 0, 1, 1, 0, 0, 0],\n",
    "#  [0, 0, 0, 1, 1, 0, 0, 0],\n",
    "#  [0, 0, 0, 1, 1, 0, 0, 0],\n",
    "#  [0, 0, 0, 1, 1, 0, 0, 0],\n",
    "#  [0, 0, 0, 1, 1, 0, 0, 0],\n",
    "#  [0, 0, 0, 1, 1, 0, 0, 0],\n",
    "#  [0, 0, 0, 1, 1, 0, 0, 0]]\n",
    "# data = asarray(data)\n",
    "# data = data.reshape(1, 8, 8, 1)"
   ]
  },
  {
   "cell_type": "code",
   "execution_count": 82,
   "metadata": {},
   "outputs": [
    {
     "name": "stdout",
     "output_type": "stream",
     "text": [
      "Model: \"sequential_55\"\n",
      "_________________________________________________________________\n",
      " Layer (type)                Output Shape              Param #   \n",
      "=================================================================\n",
      " conv2d_85 (Conv2D)          (None, 8, 8, 32)          320       \n",
      "                                                                 \n",
      " activation_32 (Activation)  (None, 8, 8, 32)          0         \n",
      "                                                                 \n",
      " max_pooling2d_49 (MaxPoolin  (None, 4, 4, 32)         0         \n",
      " g2D)                                                            \n",
      "                                                                 \n",
      " conv2d_86 (Conv2D)          (None, 4, 4, 64)          18496     \n",
      "                                                                 \n",
      " activation_33 (Activation)  (None, 4, 4, 64)          0         \n",
      "                                                                 \n",
      " max_pooling2d_50 (MaxPoolin  (None, 2, 2, 64)         0         \n",
      " g2D)                                                            \n",
      "                                                                 \n",
      " flatten_9 (Flatten)         (None, 256)               0         \n",
      "                                                                 \n",
      " dense_2 (Dense)             (None, 128)               32896     \n",
      "                                                                 \n",
      " activation_34 (Activation)  (None, 128)               0         \n",
      "                                                                 \n",
      " dense_3 (Dense)             (None, 1)                 129       \n",
      "                                                                 \n",
      " activation_35 (Activation)  (None, 1)                 0         \n",
      "                                                                 \n",
      "=================================================================\n",
      "Total params: 51,841\n",
      "Trainable params: 51,841\n",
      "Non-trainable params: 0\n",
      "_________________________________________________________________\n",
      "Accuracy: 0.0\n"
     ]
    }
   ],
   "source": [
    "import numpy as np\n",
    "from keras.models import Sequential\n",
    "from keras.layers import Conv2D, Activation, AveragePooling2D, MaxPooling2D, GlobalAveragePooling2D, Dense, Flatten\n",
    "\n",
    "# Define input data\n",
    "data = np.array([[0, 0, 0, 1, 1, 0, 0, 0],\n",
    "                 [0, 0, 0, 1, 1, 0, 0, 0],\n",
    "                 [0, 0, 0, 1, 1, 0, 0, 0],\n",
    "                 [0, 0, 0, 1, 1, 0, 0, 0],\n",
    "                 [0, 0, 0, 1, 1, 0, 0, 0],\n",
    "                 [0, 0, 0, 1, 1, 0, 0, 0],\n",
    "                 [0, 0, 0, 1, 1, 0, 0, 0],\n",
    "                 [0, 0, 0, 1, 1, 0, 0, 0]])\n",
    "data = data.reshape(1, 8, 8, 1)\n",
    "\n",
    "# Create model\n",
    "model = Sequential()\n",
    "\n",
    "# Add first convolutional layer\n",
    "model.add(Conv2D(32, (3, 3), padding='same', input_shape=(8, 8, 1)))\n",
    "model.add(Activation('relu'))\n",
    "model.add(MaxPooling2D(pool_size=(2, 2)))\n",
    "\n",
    "# Add second convolutional layer\n",
    "model.add(Conv2D(64, (3, 3), padding='same'))\n",
    "model.add(Activation('relu'))\n",
    "model.add(MaxPooling2D(pool_size=(2, 2)))\n",
    "\n",
    "# Flatten the feature maps\n",
    "model.add(Flatten())\n",
    "\n",
    "\n",
    "model.add(Dense(128))\n",
    "model.add(Activation('relu'))\n",
    "\n",
    "\n",
    "model.add(Dense(1))\n",
    "model.add(Activation('relu'))\n",
    "\n",
    "\n",
    "model.compile(loss='binary_crossentropy', optimizer='adam', metrics=['accuracy'])\n",
    "\n",
    "\n",
    "model.summary()\n",
    "\n",
    "\n",
    "\n",
    "loss, accuracy = model.evaluate(data, np.array([1]), verbose=0)\n",
    "print(\"Accuracy:\", accuracy)\n"
   ]
  },
  {
   "cell_type": "code",
   "execution_count": null,
   "metadata": {},
   "outputs": [],
   "source": [
    "# define a vertical line detector\n",
    "detector = [[[[0]],[[1]],[[0]]],\n",
    "            [[[0]],[[1]],[[0]]],\n",
    "            [[[0]],[[1]],[[0]]]]\n",
    "weights = [asarray(detector), asarray([0.0])]\n",
    "# store the weights in the model\n",
    "model.set_weights(weights)\n",
    "# confirm they were stored\n",
    "print(model.get_weights())"
   ]
  },
  {
   "cell_type": "code",
   "execution_count": null,
   "metadata": {},
   "outputs": [],
   "source": [
    "# apply filter to input data\n",
    "yhat = model.predict(data)"
   ]
  },
  {
   "cell_type": "code",
   "execution_count": null,
   "metadata": {},
   "outputs": [],
   "source": [
    "for r in range(yhat.shape[1]):\n",
    " # print each column in the row\n",
    " print([yhat[0,r,c,0] for c in range(yhat.shape[2])])"
   ]
  },
  {
   "cell_type": "code",
   "execution_count": null,
   "metadata": {},
   "outputs": [],
   "source": [
    "# example of calculation 2d convolutions\n",
    "from numpy import asarray\n",
    "from keras.models import Sequential\n",
    "from keras.layers import Conv2D\n",
    "# define input data\n",
    "data = [[0, 0, 0, 1, 1, 0, 0, 0],\n",
    "\t\t    [0, 0, 0, 1, 1, 0, 0, 0],\n",
    "\t\t    [0, 0, 0, 1, 1, 0, 0, 0],\n",
    "\t\t    [0, 0, 0, 1, 1, 0, 0, 0],\n",
    "\t\t    [0, 0, 0, 1, 1, 0, 0, 0],\n",
    "\t\t    [0, 0, 0, 1, 1, 0, 0, 0],\n",
    "\t\t    [0, 0, 0, 1, 1, 0, 0, 0],\n",
    "\t\t    [0, 0, 0, 1, 1, 0, 0, 0]]\n",
    "data = asarray(data)\n",
    "data = data.reshape(1, 8, 8, 1)\n",
    "# create model\n",
    "model = Sequential()\n",
    "model.add(Conv2D(1, (3,3), input_shape=(8, 8, 1)))\n",
    "# define a vertical line detector\n",
    "detector = [[[[0]],[[1]],[[0]]],\n",
    "            [[[0]],[[1]],[[0]]],\n",
    "            [[[0]],[[1]],[[0]]]]\n",
    "weights = [asarray(detector), asarray([0.0])]\n",
    "# store the weights in the model\n",
    "model.set_weights(weights)\n",
    "# confirm they were stored\n",
    "print(model.get_weights())\n",
    "# apply filter to input data\n",
    "yhat = model.predict(data)\n",
    "for r in range(yhat.shape[1]):\n",
    "\t# print each column in the row\n",
    "\tprint([yhat[0,r,c,0] for c in range(yhat.shape[2])])"
   ]
  },
  {
   "cell_type": "code",
   "execution_count": null,
   "metadata": {},
   "outputs": [],
   "source": [
    "from numpy import asarray\n",
    "print(asarray([1, 1, 1]).dot(asarray([1, 1, 1])))"
   ]
  },
  {
   "cell_type": "code",
   "execution_count": null,
   "metadata": {},
   "outputs": [],
   "source": [
    "from numpy import asarray\n",
    "from numpy import tensordot\n",
    "m1 = asarray([[0, 1, 0],\n",
    "   [0, 1, 0],\n",
    "   [0, 1, 0]])\n",
    "m2 = asarray([[0, 1, 1],\n",
    "   [0, 1,1],\n",
    "   [0, 1, 1]])\n",
    "print(tensordot(m1, m2))"
   ]
  }
 ],
 "metadata": {
  "kernelspec": {
   "display_name": "Python 3",
   "language": "python",
   "name": "python3"
  },
  "language_info": {
   "codemirror_mode": {
    "name": "ipython",
    "version": 3
   },
   "file_extension": ".py",
   "mimetype": "text/x-python",
   "name": "python",
   "nbconvert_exporter": "python",
   "pygments_lexer": "ipython3",
   "version": "3.11.0"
  }
 },
 "nbformat": 4,
 "nbformat_minor": 2
}
